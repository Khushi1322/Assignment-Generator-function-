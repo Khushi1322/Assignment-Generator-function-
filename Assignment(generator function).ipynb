{
 "cells": [
  {
   "cell_type": "markdown",
   "id": "df6c9fa6-169d-4e7c-81b5-c35a00ac5807",
   "metadata": {},
   "source": [
    "Q1: which keyword is used to creat a function? creat a function to return a list of odd numbers in the range of 1 to 25.\n",
    "ans: def keyword is used to creat a function."
   ]
  },
  {
   "cell_type": "code",
   "execution_count": 8,
   "id": "6ae7f5f1-fe8c-436e-99d7-b5870f25bbc8",
   "metadata": {},
   "outputs": [],
   "source": [
    "l=list(range(25))"
   ]
  },
  {
   "cell_type": "code",
   "execution_count": 9,
   "id": "da5a7428-3b87-4516-91b3-7c3478ac6e2b",
   "metadata": {},
   "outputs": [],
   "source": [
    "def test(l):\n",
    "    l1=[]\n",
    "    for i in l:\n",
    "        if i%2 != 0 :\n",
    "            l1.append(i)\n",
    "    return l1        "
   ]
  },
  {
   "cell_type": "code",
   "execution_count": 10,
   "id": "ba3bd7d0-c000-4ee8-8581-b2920c5bd42e",
   "metadata": {},
   "outputs": [
    {
     "data": {
      "text/plain": [
       "[1, 3, 5, 7, 9, 11, 13, 15, 17, 19, 21, 23]"
      ]
     },
     "execution_count": 10,
     "metadata": {},
     "output_type": "execute_result"
    }
   ],
   "source": [
    "test(l)"
   ]
  },
  {
   "cell_type": "markdown",
   "id": "45f3b7e9-c99b-4927-b77d-381f73b0ddc5",
   "metadata": {},
   "source": [
    "Q2: why *args and **kwargs is used in some function? creat a function each for *args and **kwargs to demonstrate their use."
   ]
  },
  {
   "cell_type": "markdown",
   "id": "60f5a7a4-432e-4948-a80d-e0fc9b8f0622",
   "metadata": {},
   "source": [
    "  *args allows us to pass a variable number of non_keyword arguments to a python function.in the function\n",
    " we should use an asterisk(*) before the parameter name to pass a variable number of arguments.\n",
    "    "
   ]
  },
  {
   "cell_type": "code",
   "execution_count": 16,
   "id": "6bfd6320-fbfd-41d1-a5c0-13a9f4982c0d",
   "metadata": {},
   "outputs": [],
   "source": [
    "def test(*args):\n",
    "    print(args)"
   ]
  },
  {
   "cell_type": "code",
   "execution_count": 13,
   "id": "c3323730-eacb-436e-861a-4db1bb87072d",
   "metadata": {},
   "outputs": [
    {
     "name": "stdout",
     "output_type": "stream",
     "text": [
      "(2, 3)\n"
     ]
    }
   ],
   "source": [
    "test(2,3)"
   ]
  },
  {
   "cell_type": "code",
   "execution_count": 15,
   "id": "1331de10-7e01-4a2c-ae06-9392567692d7",
   "metadata": {},
   "outputs": [
    {
     "name": "stdout",
     "output_type": "stream",
     "text": [
      "(1, 2, 3, 4, 'sudh', [23, 45.5])\n"
     ]
    }
   ],
   "source": [
    "test(1,2,3,4,'sudh',[23,45.5])"
   ]
  },
  {
   "cell_type": "markdown",
   "id": "122fbdad-6497-453f-8f77-b14bae4fa176",
   "metadata": {},
   "source": [
    "**kwargs allows us to pass a variable number of keyword arguments to a python function.in the function we use the double_asterisk(**) before the parameter name to denote this type of argument."
   ]
  },
  {
   "cell_type": "code",
   "execution_count": 20,
   "id": "fdc1c7dc-68e0-4398-98b7-c71e27fddde7",
   "metadata": {},
   "outputs": [],
   "source": [
    "def test1(**kwargs):\n",
    "    print(kwargs)"
   ]
  },
  {
   "cell_type": "code",
   "execution_count": 21,
   "id": "094128d1-2aa5-4aca-9c68-160481b07bd9",
   "metadata": {},
   "outputs": [
    {
     "name": "stdout",
     "output_type": "stream",
     "text": [
      "{'a': 'sudh', 'b': [2, 3, 4], 'c': 34.56}\n"
     ]
    }
   ],
   "source": [
    "test(a='sudh',b=[2,3,4],c=34.56)"
   ]
  },
  {
   "cell_type": "markdown",
   "id": "d58b1095-ec96-41eb-965e-5e289b83258d",
   "metadata": {},
   "source": [
    "thus we see that the arguments,in this case, are passed as a dictionary."
   ]
  },
  {
   "cell_type": "markdown",
   "id": "147566b8-7dc3-479a-9d13-7d0f80beced7",
   "metadata": {},
   "source": [
    "Q3: what is an iterator in python? name the method used to initialise the iterator object and the method used \n",
    "for iteration. use these methods to print the first five elements to given list [2,4,6,8,10,12,1,4,16,18,20]"
   ]
  },
  {
   "cell_type": "markdown",
   "id": "31318e70-64c8-4a70-809b-6ec4d567ff1a",
   "metadata": {},
   "source": [
    "ans: an iterator in python is an object like lists,tuples,dicts and sets . the python iterators object is initialized using the iter() method. it uses the next()method for iteration.\n",
    "1.__iter__(): the iter() method is called for the initialization of an iterator.this returns an iterator object.\n",
    "2.__next__(): the next method returns the next value for the iterable."
   ]
  },
  {
   "cell_type": "code",
   "execution_count": 22,
   "id": "0a60e3a4-69d5-42c2-883f-07ee9b745e20",
   "metadata": {},
   "outputs": [],
   "source": [
    "l=[2,4,6,8,10,12,14,16,18,20]"
   ]
  },
  {
   "cell_type": "code",
   "execution_count": 24,
   "id": "712adabe-9438-4f79-b2be-3be9617a6e21",
   "metadata": {},
   "outputs": [],
   "source": [
    "l1=iter(l)"
   ]
  },
  {
   "cell_type": "code",
   "execution_count": 25,
   "id": "10698e57-916d-42d0-8ab7-9a7ea7852860",
   "metadata": {},
   "outputs": [
    {
     "data": {
      "text/plain": [
       "2"
      ]
     },
     "execution_count": 25,
     "metadata": {},
     "output_type": "execute_result"
    }
   ],
   "source": [
    "next(l1)"
   ]
  },
  {
   "cell_type": "code",
   "execution_count": 26,
   "id": "c2898fdc-9b1d-43e4-9c20-caef156ee7d6",
   "metadata": {},
   "outputs": [
    {
     "data": {
      "text/plain": [
       "4"
      ]
     },
     "execution_count": 26,
     "metadata": {},
     "output_type": "execute_result"
    }
   ],
   "source": [
    "next(l1)"
   ]
  },
  {
   "cell_type": "code",
   "execution_count": 27,
   "id": "44002130-0721-4217-b9a9-29bef7b4e4ae",
   "metadata": {},
   "outputs": [
    {
     "data": {
      "text/plain": [
       "6"
      ]
     },
     "execution_count": 27,
     "metadata": {},
     "output_type": "execute_result"
    }
   ],
   "source": [
    "next(l1)"
   ]
  },
  {
   "cell_type": "code",
   "execution_count": 28,
   "id": "5f948285-c9f7-4e7f-9a4b-9b99f5540e41",
   "metadata": {},
   "outputs": [
    {
     "data": {
      "text/plain": [
       "8"
      ]
     },
     "execution_count": 28,
     "metadata": {},
     "output_type": "execute_result"
    }
   ],
   "source": [
    "next(l1)"
   ]
  },
  {
   "cell_type": "code",
   "execution_count": 29,
   "id": "dd735d89-c668-40bd-8df9-53f78d54dd22",
   "metadata": {},
   "outputs": [
    {
     "data": {
      "text/plain": [
       "10"
      ]
     },
     "execution_count": 29,
     "metadata": {},
     "output_type": "execute_result"
    }
   ],
   "source": [
    "next(l1)"
   ]
  },
  {
   "cell_type": "markdown",
   "id": "e34861b4-17ae-427a-925e-f4a1109b9846",
   "metadata": {},
   "source": [
    "Q4: what is a generator function in python? why yield keyword is used? give an example of generator function.\n",
    "ans: a python generator function allows you to declare a function that behaves like an iterator, providing\n",
    "a faster an easier way to creat iterators\n",
    "yield keyword is used to creat a generator function .a type of function that is memory efficient and can be used like an iterator object."
   ]
  },
  {
   "cell_type": "code",
   "execution_count": 38,
   "id": "03ed56c5-5c2a-45ae-a1c1-f75f6f59e6de",
   "metadata": {},
   "outputs": [],
   "source": [
    "def test_fib(n):\n",
    "    a,b=0,1\n",
    "    for i in range(n):\n",
    "        yield a\n",
    "        a,b=b,a+b"
   ]
  },
  {
   "cell_type": "code",
   "execution_count": 39,
   "id": "d9468c91-2735-4a01-8de0-c10a0fc7ef7b",
   "metadata": {},
   "outputs": [
    {
     "name": "stdout",
     "output_type": "stream",
     "text": [
      "0\n",
      "1\n",
      "1\n",
      "2\n",
      "3\n",
      "5\n",
      "8\n",
      "13\n",
      "21\n",
      "34\n"
     ]
    }
   ],
   "source": [
    "for i in test_fib(10):\n",
    "    print(i)"
   ]
  },
  {
   "cell_type": "markdown",
   "id": "d45f6c2f-deeb-4f77-b00d-1c402c11ca01",
   "metadata": {},
   "source": [
    "Q5: creat a generator function for prime numbers less than 1000.use the next method to print the first 20 prime numbers."
   ]
  },
  {
   "cell_type": "markdown",
   "id": "14f34922-71e4-413b-a2df-b4459e41cbd4",
   "metadata": {},
   "source": [
    "Q6:write a python programm to print the first 10 febonaccci numbers using while loop."
   ]
  },
  {
   "cell_type": "code",
   "execution_count": 45,
   "id": "e3292356-73a3-4e49-8a89-0351a981568a",
   "metadata": {},
   "outputs": [
    {
     "name": "stdin",
     "output_type": "stream",
     "text": [
      "enter the number 10\n"
     ]
    },
    {
     "name": "stdout",
     "output_type": "stream",
     "text": [
      "0\n",
      "1\n",
      "1\n",
      "2\n",
      "3\n",
      "5\n",
      "8\n",
      "13\n",
      "21\n",
      "34\n"
     ]
    }
   ],
   "source": [
    "n=int(input('enter the number'))\n",
    "a,b=0,1\n",
    "counter=0\n",
    "while counter<n:\n",
    "    print(a)\n",
    "    c=a+b\n",
    "    a=b\n",
    "    b=c\n",
    "    counter=counter+1"
   ]
  },
  {
   "cell_type": "markdown",
   "id": "82446201-f437-4642-9b0f-54e7d07a46f9",
   "metadata": {},
   "source": [
    "Q7: write a list comprehention tp iterate through the given string: 'pwskills'\n",
    "expected output:['p','w','s','k','i','l','l','s']"
   ]
  },
  {
   "cell_type": "code",
   "execution_count": 46,
   "id": "92c82947-0040-4d61-938b-e4a8521154cb",
   "metadata": {},
   "outputs": [],
   "source": [
    "s='pwskills'"
   ]
  },
  {
   "cell_type": "code",
   "execution_count": 47,
   "id": "5b4c35c2-a898-4618-8331-4966affcd0d3",
   "metadata": {},
   "outputs": [
    {
     "data": {
      "text/plain": [
       "['p', 'w', 's', 'k', 'i', 'l', 'l', 's']"
      ]
     },
     "execution_count": 47,
     "metadata": {},
     "output_type": "execute_result"
    }
   ],
   "source": [
    "[i for i in s]"
   ]
  },
  {
   "cell_type": "markdown",
   "id": "6a807f07-ed58-47ce-8ae1-7d02be0dc9a9",
   "metadata": {},
   "source": [
    "Q8: write a python programm to check whether a given number is Palindrome or not using while loop."
   ]
  },
  {
   "cell_type": "markdown",
   "id": "6640f0a5-7569-4322-9b75-e866d2807485",
   "metadata": {},
   "source": [
    "Q9:write a code to print a odd numbers from 1 to 100 using list comprehention."
   ]
  },
  {
   "cell_type": "code",
   "execution_count": 48,
   "id": "678e8f36-a6da-4a43-a853-b5bc4158e9b9",
   "metadata": {},
   "outputs": [],
   "source": [
    "l=list(range(100))"
   ]
  },
  {
   "cell_type": "code",
   "execution_count": 49,
   "id": "4f78c593-8c77-45d5-82a0-0b8ffb4853b7",
   "metadata": {},
   "outputs": [
    {
     "data": {
      "text/plain": [
       "[1,\n",
       " 3,\n",
       " 5,\n",
       " 7,\n",
       " 9,\n",
       " 11,\n",
       " 13,\n",
       " 15,\n",
       " 17,\n",
       " 19,\n",
       " 21,\n",
       " 23,\n",
       " 25,\n",
       " 27,\n",
       " 29,\n",
       " 31,\n",
       " 33,\n",
       " 35,\n",
       " 37,\n",
       " 39,\n",
       " 41,\n",
       " 43,\n",
       " 45,\n",
       " 47,\n",
       " 49,\n",
       " 51,\n",
       " 53,\n",
       " 55,\n",
       " 57,\n",
       " 59,\n",
       " 61,\n",
       " 63,\n",
       " 65,\n",
       " 67,\n",
       " 69,\n",
       " 71,\n",
       " 73,\n",
       " 75,\n",
       " 77,\n",
       " 79,\n",
       " 81,\n",
       " 83,\n",
       " 85,\n",
       " 87,\n",
       " 89,\n",
       " 91,\n",
       " 93,\n",
       " 95,\n",
       " 97,\n",
       " 99]"
      ]
     },
     "execution_count": 49,
     "metadata": {},
     "output_type": "execute_result"
    }
   ],
   "source": [
    "[i for i in l if i%2 !=0]"
   ]
  },
  {
   "cell_type": "code",
   "execution_count": null,
   "id": "3e1b9b7f-7e6a-4302-9652-b8d4bd0e9e98",
   "metadata": {},
   "outputs": [],
   "source": []
  }
 ],
 "metadata": {
  "kernelspec": {
   "display_name": "Python 3 (ipykernel)",
   "language": "python",
   "name": "python3"
  },
  "language_info": {
   "codemirror_mode": {
    "name": "ipython",
    "version": 3
   },
   "file_extension": ".py",
   "mimetype": "text/x-python",
   "name": "python",
   "nbconvert_exporter": "python",
   "pygments_lexer": "ipython3",
   "version": "3.10.8"
  }
 },
 "nbformat": 4,
 "nbformat_minor": 5
}
